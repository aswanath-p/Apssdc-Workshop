{
  "nbformat": 4,
  "nbformat_minor": 0,
  "metadata": {
    "colab": {
      "name": "email_phishing1.ipynb",
      "provenance": [],
      "collapsed_sections": [],
      "authorship_tag": "ABX9TyNiGGyfv32EhRmadJqQDf9Z",
      "include_colab_link": true
    },
    "kernelspec": {
      "name": "python3",
      "display_name": "Python 3"
    }
  },
  "cells": [
    {
      "cell_type": "markdown",
      "metadata": {
        "id": "view-in-github",
        "colab_type": "text"
      },
      "source": [
        "<a href=\"https://colab.research.google.com/github/aswanath-p/DL/blob/master/email_phishing1.ipynb\" target=\"_parent\"><img src=\"https://colab.research.google.com/assets/colab-badge.svg\" alt=\"Open In Colab\"/></a>"
      ]
    },
    {
      "cell_type": "code",
      "metadata": {
        "id": "wZfVhvPhL9-E"
      },
      "source": [
        "import tensorflow as tf\n",
        "import pandas as pd\n",
        "from sklearn.naive_bayes import MultinomialNB\n",
        "from sklearn.linear_model import LogisticRegression, SGDClassifier\n",
        "from sklearn.svm import LinearSVC\n",
        "from sklearn import model_selection, naive_bayes, svm\n",
        "from sklearn.model_selection import GridSearchCV\n",
        "from sklearn.metrics import accuracy_score,f1_score\n",
        "from sklearn.model_selection import train_test_split, cross_val_predict, learning_curve\n",
        "from sklearn.metrics import r2_score, accuracy_score\n",
        "import numpy as np"
      ],
      "execution_count": null,
      "outputs": []
    },
    {
      "cell_type": "code",
      "metadata": {
        "colab": {
          "base_uri": "https://localhost:8080/",
          "height": 568
        },
        "id": "oTYPZGFNMpji",
        "outputId": "2c85bb26-9804-4286-b28f-fc5ba8d79b52"
      },
      "source": [
        "test = pd.read_csv('/content/Real_time_emails - label Project.csv')\n",
        "test.sample(5)"
      ],
      "execution_count": null,
      "outputs": [
        {
          "output_type": "execute_result",
          "data": {
            "text/html": [
              "<div>\n",
              "<style scoped>\n",
              "    .dataframe tbody tr th:only-of-type {\n",
              "        vertical-align: middle;\n",
              "    }\n",
              "\n",
              "    .dataframe tbody tr th {\n",
              "        vertical-align: top;\n",
              "    }\n",
              "\n",
              "    .dataframe thead th {\n",
              "        text-align: right;\n",
              "    }\n",
              "</style>\n",
              "<table border=\"1\" class=\"dataframe\">\n",
              "  <thead>\n",
              "    <tr style=\"text-align: right;\">\n",
              "      <th></th>\n",
              "      <th>From</th>\n",
              "      <th>To</th>\n",
              "      <th>Reply-to</th>\n",
              "      <th>Subject</th>\n",
              "      <th>Attachments</th>\n",
              "      <th>Email Text</th>\n",
              "      <th>phishing</th>\n",
              "      <th>@ in URLs</th>\n",
              "      <th>Css</th>\n",
              "      <th>Encoding</th>\n",
              "      <th>External Resources</th>\n",
              "      <th>Flash content</th>\n",
              "      <th>HTML content</th>\n",
              "      <th>Html Form</th>\n",
              "      <th>Html iFrame</th>\n",
              "      <th>IPs in URLs</th>\n",
              "      <th>Javascript</th>\n",
              "      <th>Phishy</th>\n",
              "      <th>URLs</th>\n",
              "      <th>Class_of_mail</th>\n",
              "    </tr>\n",
              "  </thead>\n",
              "  <tbody>\n",
              "    <tr>\n",
              "      <th>2880</th>\n",
              "      <td>26.mohit@gmail.com</td>\n",
              "      <td>shivarajesh9871@gmail.com, vishnupriya8909@gma...</td>\n",
              "      <td>NaN</td>\n",
              "      <td>Re: Google meeting at 5:30 PM</td>\n",
              "      <td>NaN</td>\n",
              "      <td>Subject: nominations for eastrans reciept for ...</td>\n",
              "      <td>ham</td>\n",
              "      <td>NaN</td>\n",
              "      <td>0</td>\n",
              "      <td>7bit</td>\n",
              "      <td>0</td>\n",
              "      <td>False</td>\n",
              "      <td>NaN</td>\n",
              "      <td>False</td>\n",
              "      <td>False</td>\n",
              "      <td>False</td>\n",
              "      <td>0</td>\n",
              "      <td>NaN</td>\n",
              "      <td>NaN</td>\n",
              "      <td>NaN</td>\n",
              "    </tr>\n",
              "    <tr>\n",
              "      <th>1971</th>\n",
              "      <td>info@naukri.com</td>\n",
              "      <td>aswanath.p@gmail.com</td>\n",
              "      <td>NaN</td>\n",
              "      <td>Check Out Top Companies Hiring Now!</td>\n",
              "      <td>NaN</td>\n",
              "      <td>Subject: new book\\nplease create the following...</td>\n",
              "      <td>ham</td>\n",
              "      <td>NaN</td>\n",
              "      <td>0</td>\n",
              "      <td>7bit</td>\n",
              "      <td>0</td>\n",
              "      <td>False</td>\n",
              "      <td>NaN</td>\n",
              "      <td>False</td>\n",
              "      <td>False</td>\n",
              "      <td>False</td>\n",
              "      <td>0</td>\n",
              "      <td>NaN</td>\n",
              "      <td>NaN</td>\n",
              "      <td>NaN</td>\n",
              "    </tr>\n",
              "    <tr>\n",
              "      <th>2026</th>\n",
              "      <td>info@interviewbit.com</td>\n",
              "      <td>aswanath.p@gmail.com</td>\n",
              "      <td>NaN</td>\n",
              "      <td>Everyone who gets into Google can solve this p...</td>\n",
              "      <td>NaN</td>\n",
              "      <td>Subject: mobil beaumont - marol\\njust want to ...</td>\n",
              "      <td>ham</td>\n",
              "      <td>NaN</td>\n",
              "      <td>0</td>\n",
              "      <td>7bit</td>\n",
              "      <td>0</td>\n",
              "      <td>False</td>\n",
              "      <td>NaN</td>\n",
              "      <td>False</td>\n",
              "      <td>False</td>\n",
              "      <td>False</td>\n",
              "      <td>0</td>\n",
              "      <td>NaN</td>\n",
              "      <td>NaN</td>\n",
              "      <td>NaN</td>\n",
              "    </tr>\n",
              "    <tr>\n",
              "      <th>559</th>\n",
              "      <td>newsletter@gmatclub.com</td>\n",
              "      <td>aswanath.p@gmail.com</td>\n",
              "      <td>NaN</td>\n",
              "      <td>3 Months to a 700+ GMAT</td>\n",
              "      <td>NaN</td>\n",
              "      <td>Subject: 108 mbps wireless firewall 4 - port r...</td>\n",
              "      <td>spam</td>\n",
              "      <td>NaN</td>\n",
              "      <td>0</td>\n",
              "      <td>7bit</td>\n",
              "      <td>0</td>\n",
              "      <td>False</td>\n",
              "      <td>NaN</td>\n",
              "      <td>False</td>\n",
              "      <td>False</td>\n",
              "      <td>False</td>\n",
              "      <td>0</td>\n",
              "      <td>NaN</td>\n",
              "      <td>NaN</td>\n",
              "      <td>NaN</td>\n",
              "    </tr>\n",
              "    <tr>\n",
              "      <th>2961</th>\n",
              "      <td>info@naukri.com</td>\n",
              "      <td>aswanath.p@gmail.com</td>\n",
              "      <td>NaN</td>\n",
              "      <td>Check Out Top Companies Hiring Now!</td>\n",
              "      <td>NaN</td>\n",
              "      <td>Subject: re : base gas roll\\nthanks ,\\ngg\\nfro...</td>\n",
              "      <td>ham</td>\n",
              "      <td>NaN</td>\n",
              "      <td>0</td>\n",
              "      <td>none</td>\n",
              "      <td>0</td>\n",
              "      <td>False</td>\n",
              "      <td>NaN</td>\n",
              "      <td>False</td>\n",
              "      <td>False</td>\n",
              "      <td>False</td>\n",
              "      <td>0</td>\n",
              "      <td>NaN</td>\n",
              "      <td>NaN</td>\n",
              "      <td>NaN</td>\n",
              "    </tr>\n",
              "  </tbody>\n",
              "</table>\n",
              "</div>"
            ],
            "text/plain": [
              "                         From  ... Class_of_mail\n",
              "2880       26.mohit@gmail.com  ...           NaN\n",
              "1971          info@naukri.com  ...           NaN\n",
              "2026    info@interviewbit.com  ...           NaN\n",
              "559   newsletter@gmatclub.com  ...           NaN\n",
              "2961          info@naukri.com  ...           NaN\n",
              "\n",
              "[5 rows x 20 columns]"
            ]
          },
          "metadata": {
            "tags": []
          },
          "execution_count": 3
        }
      ]
    },
    {
      "cell_type": "code",
      "metadata": {
        "colab": {
          "base_uri": "https://localhost:8080/"
        },
        "id": "ckhsCGCfmgNf",
        "outputId": "b51dbd1e-2c6c-4d19-ac30-772be5556d38"
      },
      "source": [
        "import nltk \n",
        "from nltk.corpus import stopwords\n",
        "nltk.download('stopwords')"
      ],
      "execution_count": null,
      "outputs": [
        {
          "output_type": "stream",
          "text": [
            "[nltk_data] Downloading package stopwords to /root/nltk_data...\n",
            "[nltk_data]   Unzipping corpora/stopwords.zip.\n"
          ],
          "name": "stdout"
        },
        {
          "output_type": "execute_result",
          "data": {
            "text/plain": [
              "True"
            ]
          },
          "metadata": {
            "tags": []
          },
          "execution_count": 4
        }
      ]
    },
    {
      "cell_type": "code",
      "metadata": {
        "id": "IvNA71EKmorU"
      },
      "source": [
        "stop_words = set(stopwords.words('english'))"
      ],
      "execution_count": null,
      "outputs": []
    },
    {
      "cell_type": "code",
      "metadata": {
        "id": "XlsV8vuamsMU"
      },
      "source": [
        "import re\n",
        "def preprocess(string):\n",
        "  processed_string = re.sub('[^a-z0-9]+', ' ', string, flags=re.IGNORECASE)\n",
        "  processed_string = re.sub('(\\s+)', ' ', processed_string)\n",
        "  processed_string = processed_string.lower()\n",
        "  return [ele for ele in processed_string.split() if not ele in list(stop_words) + ['subject']]"
      ],
      "execution_count": null,
      "outputs": []
    },
    {
      "cell_type": "code",
      "metadata": {
        "id": "2hJ4vZvPO2oG"
      },
      "source": [
        "def cleaning(text):\n",
        "\n",
        "    import string\n",
        "    exclude = set(string.punctuation)\n",
        "\n",
        "    import re\n",
        "    # remove new line and digits with regular expression\n",
        "    text = re.sub(r'\\n', '', text)\n",
        "    text = re.sub(r'\\d', '', text)\n",
        "    # remove patterns matching url format\n",
        "    url_pattern = r'((http|ftp|https):\\/\\/)?[\\w\\-_]+(\\.[\\w\\-_]+)+([\\w\\-\\.,@?^=%&amp;:/~\\+#]*[\\w\\-\\@?^=%&amp;/~\\+#])?'\n",
        "    text = re.sub(url_pattern, ' ', text)\n",
        "    # remove non-ascii characters\n",
        "    text = ''.join(character for character in text if ord(character) < 128)\n",
        "    # remove punctuations\n",
        "    text = ''.join(character for character in text if character not in exclude)\n",
        "    # standardize white space\n",
        "    text = re.sub(r'\\s+', ' ', text)\n",
        "    # drop capitalization\n",
        "    text = text.lower()\n",
        "    #remove white space\n",
        "    text = text.strip()\n",
        "\n",
        "    return text"
      ],
      "execution_count": null,
      "outputs": []
    },
    {
      "cell_type": "code",
      "metadata": {
        "colab": {
          "base_uri": "https://localhost:8080/",
          "height": 89
        },
        "id": "FjUdQTi-O9jr",
        "outputId": "25296525-50b9-40a2-9fdf-1c9477401bc7"
      },
      "source": [
        "test['Email Text'][700]"
      ],
      "execution_count": null,
      "outputs": [
        {
          "output_type": "execute_result",
          "data": {
            "application/vnd.google.colaboratory.intrinsic+json": {
              "type": "string"
            },
            "text/plain": [
              "'Subject: second revision to my spreadsheet - changes to previous one are\\nnoted as rev 2\\nrevisions to devon # \\' s .\\nbeverly\\n- - - - - - - - - - - - - - - - - - - - - - forwarded by beverly beaty / hou / ect on 11 / 29 / 2000 09 : 57\\nam - - - - - - - - - - - - - - - - - - - - - - - - - - -\\nenron capital & trade resources corp .\\nfrom : \" victor haley \"\\n11 / 29 / 2000 10 : 54 am\\nto :\\ncc :\\nsubject : second revision to my spreadsheet - changes to previous one are noted\\nas rev 2\\nsecond revision to my spreadsheet - changes to previous one are noted as rev\\n2\\n- enronavailsl 200 pools . xls'"
            ]
          },
          "metadata": {
            "tags": []
          },
          "execution_count": 17
        }
      ]
    },
    {
      "cell_type": "code",
      "metadata": {
        "colab": {
          "base_uri": "https://localhost:8080/"
        },
        "id": "tTEHXxBTPAG1",
        "outputId": "a15f62a4-9b1e-4671-ed5a-722e7fa03742"
      },
      "source": [
        "print(cleaning(test['Email Text'][700]))"
      ],
      "execution_count": null,
      "outputs": [
        {
          "output_type": "stream",
          "text": [
            "subject second revision to my spreadsheet changes to previous one arenoted as rev revisions to devon s beverly forwarded by beverly beaty hou ect on am enron capital trade resources corp from victor haley amto cc subject second revision to my spreadsheet changes to previous one are notedas rev second revision to my spreadsheet changes to previous one are noted as rev enronavailsl pools xls\n"
          ],
          "name": "stdout"
        }
      ]
    },
    {
      "cell_type": "code",
      "metadata": {
        "colab": {
          "base_uri": "https://localhost:8080/"
        },
        "id": "juF4RNNbE4jx",
        "outputId": "68b66872-af1b-446c-c59a-ca702fab04c0"
      },
      "source": [
        "test['phishing'].value_counts()"
      ],
      "execution_count": null,
      "outputs": [
        {
          "output_type": "execute_result",
          "data": {
            "text/plain": [
              "ham     1651\n",
              "spam     590\n",
              "Name: phishing, dtype: int64"
            ]
          },
          "metadata": {
            "tags": []
          },
          "execution_count": 9
        }
      ]
    },
    {
      "cell_type": "code",
      "metadata": {
        "colab": {
          "base_uri": "https://localhost:8080/"
        },
        "id": "AHIiMYG9F17I",
        "outputId": "96ec88d9-6497-4c90-bfc4-47c825d241bf"
      },
      "source": [
        "X = test['Email Text'].values\n",
        "y = test['phishing'].values\n",
        "\n",
        "from sklearn.model_selection import train_test_split\n",
        "from sklearn.preprocessing import LabelEncoder\n",
        "\n",
        "le = LabelEncoder()\n",
        "\n",
        "y = le.fit_transform(y)\n",
        "X = list(X)\n",
        "y = list(y)\n",
        "print(set(y))\n",
        "train_X, test_X, train_y, test_y = train_test_split(X, y, test_size = 0.05, random_state = 42)\n",
        "print(len(train_X), len(test_X))"
      ],
      "execution_count": null,
      "outputs": [
        {
          "output_type": "stream",
          "text": [
            "{0, 1}\n",
            "2128 113\n"
          ],
          "name": "stdout"
        }
      ]
    },
    {
      "cell_type": "code",
      "metadata": {
        "id": "sMnN0ohK0_lm"
      },
      "source": [
        "training_sentences = [cleaning(ele) for ele in train_X]\n",
        "testing_sentences = [cleaning(ele) for ele in test_X]"
      ],
      "execution_count": null,
      "outputs": []
    },
    {
      "cell_type": "code",
      "metadata": {
        "id": "0dy08qve1TZy"
      },
      "source": [
        "train_1 = [preprocess(ele) for ele in training_sentences]\n",
        "test_1 = [preprocess(ele) for ele in testing_sentences]"
      ],
      "execution_count": null,
      "outputs": []
    },
    {
      "cell_type": "code",
      "metadata": {
        "id": "nYcyHFsG1uYh"
      },
      "source": [
        "vocab_size = 10000\n",
        "embedding_dim = 10\n",
        "max_length = 100\n",
        "\n",
        "oov_tok = '<OOV>'\n",
        "trunc_type = 'post'\n",
        "\n",
        "from tensorflow.keras.preprocessing.text import Tokenizer\n",
        "from tensorflow.keras.preprocessing.sequence import pad_sequences\n",
        "\n",
        "tokenizer = Tokenizer(num_words = vocab_size, oov_token = oov_tok)\n",
        "tokenizer.fit_on_texts(training_sentences)\n",
        "word_index = tokenizer.word_index\n",
        "sequences = tokenizer.texts_to_sequences(training_sentences)\n",
        "padded = pad_sequences(sequences, maxlen = max_length, truncating = trunc_type)\n",
        "\n",
        "testing_sequences = tokenizer.texts_to_sequences(testing_sentences)\n",
        "testing_padded = pad_sequences(testing_sequences, maxlen = max_length)"
      ],
      "execution_count": null,
      "outputs": []
    },
    {
      "cell_type": "code",
      "metadata": {
        "colab": {
          "base_uri": "https://localhost:8080/"
        },
        "id": "d6hKONqN14Qm",
        "outputId": "51f701b6-8921-46fa-cf8d-aa49bf2b8d4d"
      },
      "source": [
        "model = tf.keras.Sequential([\n",
        "    tf.keras.layers.Embedding(vocab_size, embedding_dim, input_length=max_length),\n",
        "    tf.keras.layers.Flatten(),\n",
        "    tf.keras.layers.Dense(6, activation='relu'),\n",
        "    tf.keras.layers.Dense(1, activation='sigmoid')\n",
        "])\n",
        "model.compile(loss='binary_crossentropy',optimizer='adam',metrics=['accuracy'])\n",
        "model.summary()"
      ],
      "execution_count": null,
      "outputs": [
        {
          "output_type": "stream",
          "text": [
            "Model: \"sequential\"\n",
            "_________________________________________________________________\n",
            "Layer (type)                 Output Shape              Param #   \n",
            "=================================================================\n",
            "embedding (Embedding)        (None, 100, 10)           100000    \n",
            "_________________________________________________________________\n",
            "flatten (Flatten)            (None, 1000)              0         \n",
            "_________________________________________________________________\n",
            "dense (Dense)                (None, 6)                 6006      \n",
            "_________________________________________________________________\n",
            "dense_1 (Dense)              (None, 1)                 7         \n",
            "=================================================================\n",
            "Total params: 106,013\n",
            "Trainable params: 106,013\n",
            "Non-trainable params: 0\n",
            "_________________________________________________________________\n"
          ],
          "name": "stdout"
        }
      ]
    },
    {
      "cell_type": "code",
      "metadata": {
        "colab": {
          "base_uri": "https://localhost:8080/"
        },
        "id": "s6jWtb0T2FiJ",
        "outputId": "d0d9b6e8-98bf-4fb2-ab7f-4a49ab825ab8"
      },
      "source": [
        "import numpy as np\n",
        "num_epochs = 5\n",
        "model.fit(padded, np.array(train_y), epochs = num_epochs, validation_data = (testing_padded, np.array(test_y)))"
      ],
      "execution_count": null,
      "outputs": [
        {
          "output_type": "stream",
          "text": [
            "Epoch 1/5\n",
            "67/67 [==============================] - 2s 15ms/step - loss: 0.6343 - accuracy: 0.7261 - val_loss: 0.4626 - val_accuracy: 0.8142\n",
            "Epoch 2/5\n",
            "67/67 [==============================] - 0s 4ms/step - loss: 0.4207 - accuracy: 0.7826 - val_loss: 0.2398 - val_accuracy: 0.9558\n",
            "Epoch 3/5\n",
            "67/67 [==============================] - 0s 4ms/step - loss: 0.1958 - accuracy: 0.9591 - val_loss: 0.1429 - val_accuracy: 0.9646\n",
            "Epoch 4/5\n",
            "67/67 [==============================] - 0s 5ms/step - loss: 0.0998 - accuracy: 0.9822 - val_loss: 0.0971 - val_accuracy: 0.9823\n",
            "Epoch 5/5\n",
            "67/67 [==============================] - 0s 4ms/step - loss: 0.0494 - accuracy: 0.9928 - val_loss: 0.0840 - val_accuracy: 0.9823\n"
          ],
          "name": "stdout"
        },
        {
          "output_type": "execute_result",
          "data": {
            "text/plain": [
              "<tensorflow.python.keras.callbacks.History at 0x7fc21dddbe80>"
            ]
          },
          "metadata": {
            "tags": []
          },
          "execution_count": 15
        }
      ]
    },
    {
      "cell_type": "code",
      "metadata": {
        "id": "IbIIxL5bR58G",
        "colab": {
          "base_uri": "https://localhost:8080/",
          "height": 533
        },
        "outputId": "b73f1698-e144-4859-fa94-75d00bd119fb"
      },
      "source": [
        "tf.keras.utils.plot_model(\n",
        "    model, to_file='model.png', show_shapes=True, show_dtype=False,\n",
        "    show_layer_names=True)"
      ],
      "execution_count": null,
      "outputs": [
        {
          "output_type": "execute_result",
          "data": {
            "image/png": "[encoded data removed]",
            "text/plain": [
              "<IPython.core.display.Image object>"
            ]
          },
          "metadata": {
            "tags": []
          },
          "execution_count": 16
        }
      ]
    },
    {
      "cell_type": "code",
      "metadata": {
        "colab": {
          "base_uri": "https://localhost:8080/"
        },
        "id": "QCJshJZu1xgF",
        "outputId": "2c131a7b-2ee0-4308-f9d8-8f4e5ef7e91f"
      },
      "source": [
        "#Logistic Regression\n",
        "import numpy as np\n",
        "clf = LogisticRegression(max_iter=500)\n",
        "clf.fit(padded, np.array(train_y))\n",
        "print (\"Final Accuracy: %s\"  % accuracy_score(np.array(test_y),clf.predict(testing_padded)))"
      ],
      "execution_count": null,
      "outputs": [
        {
          "output_type": "stream",
          "text": [
            "Final Accuracy: 0.7699115044247787\n"
          ],
          "name": "stdout"
        }
      ]
    },
    {
      "cell_type": "code",
      "metadata": {
        "colab": {
          "base_uri": "https://localhost:8080/"
        },
        "id": "nUBE2ODn3DN3",
        "outputId": "f9ada65f-2c92-4d05-f200-131409f39c6e"
      },
      "source": [
        "from xgboost import XGBClassifier\n",
        "clf = XGBClassifier()\n",
        "clf.fit(padded, np.array(train_y))\n",
        "print (\"Final Accuracy: %s\"  % accuracy_score(np.array(test_y),clf.predict(testing_padded)))"
      ],
      "execution_count": null,
      "outputs": [
        {
          "output_type": "stream",
          "text": [
            "Final Accuracy: 0.84375\n"
          ],
          "name": "stdout"
        }
      ]
    },
    {
      "cell_type": "code",
      "metadata": {
        "id": "fU62qFQ5Cmlc",
        "colab": {
          "base_uri": "https://localhost:8080/"
        },
        "outputId": "5d0737ac-bf7b-443e-de8d-d08d457b670e"
      },
      "source": [
        "from sklearn.metrics import classification_report\n",
        "print(classification_report(np.array(test_y),clf.predict(testing_padded)))\n",
        "print (\"Final Accuracy: %s\"  % accuracy_score(np.array(test_y),clf.predict(testing_padded)))"
      ],
      "execution_count": null,
      "outputs": [
        {
          "output_type": "stream",
          "text": [
            "              precision    recall  f1-score   support\n",
            "\n",
            "           0       0.84      0.97      0.90       116\n",
            "           1       0.85      0.52      0.65        44\n",
            "\n",
            "    accuracy                           0.84       160\n",
            "   macro avg       0.85      0.74      0.77       160\n",
            "weighted avg       0.84      0.84      0.83       160\n",
            "\n",
            "Final Accuracy: 0.84375\n"
          ],
          "name": "stdout"
        }
      ]
    },
    {
      "cell_type": "code",
      "metadata": {
        "colab": {
          "base_uri": "https://localhost:8080/"
        },
        "id": "pGGxEn-_4tlZ",
        "outputId": "73a8bffc-1845-416e-e061-6fd9708c981f"
      },
      "source": [
        "#SVM\n",
        "svm = LinearSVC(C=0.05)\n",
        "svm.fit(padded, np.array(train_y))\n",
        "print (\"Accuracy : %s\" % ( accuracy_score(np.array(test_y),clf.predict(testing_padded))))\n",
        "print(\"F1-Score: %f\" % f1_score(np.array(test_y),clf.predict(testing_padded)))"
      ],
      "execution_count": null,
      "outputs": [
        {
          "output_type": "stream",
          "text": [
            "Accuracy : 0.84375\n",
            "F1-Score: 0.647887\n"
          ],
          "name": "stdout"
        },
        {
          "output_type": "stream",
          "text": [
            "/usr/local/lib/python3.6/dist-packages/sklearn/svm/_base.py:947: ConvergenceWarning: Liblinear failed to converge, increase the number of iterations.\n",
            "  \"the number of iterations.\", ConvergenceWarning)\n"
          ],
          "name": "stderr"
        }
      ]
    },
    {
      "cell_type": "code",
      "metadata": {
        "colab": {
          "base_uri": "https://localhost:8080/"
        },
        "id": "Kbd13opB5Fvd",
        "outputId": "1ee164e7-78ff-449a-ea2d-26b18fabbb04"
      },
      "source": [
        "from sklearn.metrics import classification_report\n",
        "print(classification_report(np.array(test_y),clf.predict(testing_padded)))\n",
        "print (\"Accuracy : %s\" % ( accuracy_score(np.array(test_y),clf.predict(testing_padded))))"
      ],
      "execution_count": null,
      "outputs": [
        {
          "output_type": "stream",
          "text": [
            "              precision    recall  f1-score   support\n",
            "\n",
            "           0       0.84      0.97      0.90       116\n",
            "           1       0.85      0.52      0.65        44\n",
            "\n",
            "    accuracy                           0.84       160\n",
            "   macro avg       0.85      0.74      0.77       160\n",
            "weighted avg       0.84      0.84      0.83       160\n",
            "\n",
            "Accuracy : 0.84375\n"
          ],
          "name": "stdout"
        }
      ]
    },
    {
      "cell_type": "code",
      "metadata": {
        "id": "XiuR6fyh5LAw",
        "colab": {
          "base_uri": "https://localhost:8080/"
        },
        "outputId": "42a410cd-18cf-433b-ea07-676604980d8c"
      },
      "source": [
        "#Decision Tree\n",
        "from sklearn.tree import DecisionTreeClassifier\n",
        "clf = DecisionTreeClassifier()\n",
        "clf.fit(padded, np.array(train_y))\n",
        "print (\"Final Accuracy: %s\"  % accuracy_score(np.array(test_y),clf.predict(testing_padded)))"
      ],
      "execution_count": null,
      "outputs": [
        {
          "output_type": "stream",
          "text": [
            "Final Accuracy: 0.80625\n"
          ],
          "name": "stdout"
        }
      ]
    },
    {
      "cell_type": "code",
      "metadata": {
        "colab": {
          "base_uri": "https://localhost:8080/"
        },
        "id": "3K4xplQlcy-o",
        "outputId": "e7f312c6-9b51-4a29-cf02-7da4bcb18f72"
      },
      "source": [
        "from sklearn.metrics import classification_report\n",
        "print(classification_report(np.array(test_y),clf.predict(testing_padded)))\n",
        "print (\"Accuracy : %s\" % ( accuracy_score(np.array(test_y),clf.predict(testing_padded))))"
      ],
      "execution_count": null,
      "outputs": [
        {
          "output_type": "stream",
          "text": [
            "              precision    recall  f1-score   support\n",
            "\n",
            "           0       0.88      0.85      0.87       116\n",
            "           1       0.65      0.70      0.67        44\n",
            "\n",
            "    accuracy                           0.81       160\n",
            "   macro avg       0.76      0.78      0.77       160\n",
            "weighted avg       0.82      0.81      0.81       160\n",
            "\n",
            "Accuracy : 0.8125\n"
          ],
          "name": "stdout"
        }
      ]
    },
    {
      "cell_type": "code",
      "metadata": {
        "id": "SI9o5MsIX_T9",
        "colab": {
          "base_uri": "https://localhost:8080/"
        },
        "outputId": "406589b6-b40f-4d7a-cdab-6349c4522183"
      },
      "source": [
        "#urls count and @ in URLs\n",
        "import re   \n",
        "def Find(string): \n",
        "  \n",
        "    # findall() has been used  \n",
        "    # with valid conditions for urls in string \n",
        "    regex = r\"(?i)\\b((?:https?://|www\\d{0,3}[.]|[a-z0-9.\\-]+[.][a-z]{2,4}/)(?:[^\\s()<>]+|\\(([^\\s()<>]+|(\\([^\\s()<>]+\\)))*\\))+(?:\\(([^\\s()<>]+|(\\([^\\s()<>]+\\)))*\\)|[^\\s`!()\\[\\]{};:'\\\".,<>?«»“”‘’]))\"\n",
        "    url = re.findall(regex,string)       \n",
        "    return [x[0] for x in url]\n",
        "\n",
        "for i in range(len(test['Subject'])):\n",
        "  string = test['Subject'][i]+test['Email Text'][i]\n",
        "  li = Find(string)\n",
        "  for k in li:\n",
        "    if('@' in k):\n",
        "      test['@ in URLs'][i] = True \n",
        "      break\n",
        "  else:\n",
        "    test['@ in URLs'][i] = False\n",
        "  test['URLs'][i] = int(len(li))"
      ],
      "execution_count": null,
      "outputs": [
        {
          "output_type": "stream",
          "text": [
            "/usr/local/lib/python3.6/dist-packages/ipykernel_launcher.py:19: SettingWithCopyWarning: \n",
            "A value is trying to be set on a copy of a slice from a DataFrame\n",
            "\n",
            "See the caveats in the documentation: https://pandas.pydata.org/pandas-docs/stable/user_guide/indexing.html#returning-a-view-versus-a-copy\n",
            "/usr/local/lib/python3.6/dist-packages/pandas/core/indexing.py:670: SettingWithCopyWarning: \n",
            "A value is trying to be set on a copy of a slice from a DataFrame\n",
            "\n",
            "See the caveats in the documentation: https://pandas.pydata.org/pandas-docs/stable/user_guide/indexing.html#returning-a-view-versus-a-copy\n",
            "  iloc._setitem_with_indexer(indexer, value)\n",
            "/usr/local/lib/python3.6/dist-packages/ipykernel_launcher.py:20: SettingWithCopyWarning: \n",
            "A value is trying to be set on a copy of a slice from a DataFrame\n",
            "\n",
            "See the caveats in the documentation: https://pandas.pydata.org/pandas-docs/stable/user_guide/indexing.html#returning-a-view-versus-a-copy\n",
            "/usr/local/lib/python3.6/dist-packages/ipykernel_launcher.py:16: SettingWithCopyWarning: \n",
            "A value is trying to be set on a copy of a slice from a DataFrame\n",
            "\n",
            "See the caveats in the documentation: https://pandas.pydata.org/pandas-docs/stable/user_guide/indexing.html#returning-a-view-versus-a-copy\n",
            "  app.launch_new_instance()\n"
          ],
          "name": "stderr"
        }
      ]
    },
    {
      "cell_type": "code",
      "metadata": {
        "colab": {
          "base_uri": "https://localhost:8080/"
        },
        "id": "0OzJy6RqKKl-",
        "outputId": "ae361010-02ed-48ef-dbe3-d12ccdaa9452"
      },
      "source": [
        "#html content\n",
        "import re \n",
        "for i in range(len(test['Subject'])):\n",
        "  string = test['Subject'][i]+test['Email Text'][i]\n",
        "  tag = \"b\"\n",
        "\n",
        "  # regex to extract required strings \n",
        "  reg_str = \"<\" + tag + \">(.*?)</\" + tag + \">\"\n",
        "  res = re.findall(reg_str, string) \n",
        "\n",
        "  if(len(res)>0):\n",
        "    test['HTML content'][i] = True\n",
        "  else:\n",
        "    test['HTML content'][i] = False"
      ],
      "execution_count": null,
      "outputs": [
        {
          "output_type": "stream",
          "text": [
            "/usr/local/lib/python3.6/dist-packages/ipykernel_launcher.py:14: SettingWithCopyWarning: \n",
            "A value is trying to be set on a copy of a slice from a DataFrame\n",
            "\n",
            "See the caveats in the documentation: https://pandas.pydata.org/pandas-docs/stable/user_guide/indexing.html#returning-a-view-versus-a-copy\n",
            "  \n",
            "/usr/local/lib/python3.6/dist-packages/pandas/core/indexing.py:670: SettingWithCopyWarning: \n",
            "A value is trying to be set on a copy of a slice from a DataFrame\n",
            "\n",
            "See the caveats in the documentation: https://pandas.pydata.org/pandas-docs/stable/user_guide/indexing.html#returning-a-view-versus-a-copy\n",
            "  iloc._setitem_with_indexer(indexer, value)\n"
          ],
          "name": "stderr"
        }
      ]
    },
    {
      "cell_type": "code",
      "metadata": {
        "colab": {
          "base_uri": "https://localhost:8080/"
        },
        "id": "SkuRfZrOfKCa",
        "outputId": "c3fb92d7-4e90-4e01-8d80-b8f5f75038e8"
      },
      "source": [
        "# phishy values\n",
        "for i in range(len(test['Email Text'])):\n",
        "  if(test['@ in URLs'][i] == False and test['Css'][i] == 0 and test['External Resources'][i] == 0 and test['Html iFrame'][i] == 0 and test['IPs in URLs'][i] == False and test['Javascript'][i] == 0):\n",
        "    test['Phishy'][i] = False\n",
        "  else:\n",
        "    test['Phishy'][i] = True"
      ],
      "execution_count": null,
      "outputs": [
        {
          "output_type": "stream",
          "text": [
            "/usr/local/lib/python3.6/dist-packages/ipykernel_launcher.py:4: SettingWithCopyWarning: \n",
            "A value is trying to be set on a copy of a slice from a DataFrame\n",
            "\n",
            "See the caveats in the documentation: https://pandas.pydata.org/pandas-docs/stable/user_guide/indexing.html#returning-a-view-versus-a-copy\n",
            "  after removing the cwd from sys.path.\n",
            "/usr/local/lib/python3.6/dist-packages/pandas/core/indexing.py:670: SettingWithCopyWarning: \n",
            "A value is trying to be set on a copy of a slice from a DataFrame\n",
            "\n",
            "See the caveats in the documentation: https://pandas.pydata.org/pandas-docs/stable/user_guide/indexing.html#returning-a-view-versus-a-copy\n",
            "  iloc._setitem_with_indexer(indexer, value)\n",
            "/usr/local/lib/python3.6/dist-packages/ipykernel_launcher.py:6: SettingWithCopyWarning: \n",
            "A value is trying to be set on a copy of a slice from a DataFrame\n",
            "\n",
            "See the caveats in the documentation: https://pandas.pydata.org/pandas-docs/stable/user_guide/indexing.html#returning-a-view-versus-a-copy\n",
            "  \n"
          ],
          "name": "stderr"
        }
      ]
    },
    {
      "cell_type": "code",
      "metadata": {
        "colab": {
          "base_uri": "https://localhost:8080/"
        },
        "id": "llIQCfthhxRW",
        "outputId": "0b48d261-3ca5-4c7b-b5e7-2c7050901e12"
      },
      "source": [
        "test['Phishy'].value_counts()"
      ],
      "execution_count": null,
      "outputs": [
        {
          "output_type": "execute_result",
          "data": {
            "text/plain": [
              "False    2948\n",
              "True      237\n",
              "Name: Phishy, dtype: int64"
            ]
          },
          "metadata": {
            "tags": []
          },
          "execution_count": 72
        }
      ]
    },
    {
      "cell_type": "code",
      "metadata": {
        "id": "CGqcjyAmGpRX"
      },
      "source": [
        "phish_data = pd.read_csv('/content/phishing3.csv')\n",
        "good_data = pd.read_csv('/content/features.csv')"
      ],
      "execution_count": null,
      "outputs": []
    },
    {
      "cell_type": "code",
      "metadata": {
        "colab": {
          "base_uri": "https://localhost:8080/",
          "height": 391
        },
        "id": "qddBA29zGuX1",
        "outputId": "892daec7-51b3-444d-de70-b00cf8046b6f"
      },
      "source": [
        "# Concatenate\n",
        "raw_data = pd.concat([phish_data,good_data],ignore_index=True)\n",
        "raw_data.sample(10)"
      ],
      "execution_count": null,
      "outputs": [
        {
          "output_type": "execute_result",
          "data": {
            "text/html": [
              "<div>\n",
              "<style scoped>\n",
              "    .dataframe tbody tr th:only-of-type {\n",
              "        vertical-align: middle;\n",
              "    }\n",
              "\n",
              "    .dataframe tbody tr th {\n",
              "        vertical-align: top;\n",
              "    }\n",
              "\n",
              "    .dataframe thead th {\n",
              "        text-align: right;\n",
              "    }\n",
              "</style>\n",
              "<table border=\"1\" class=\"dataframe\">\n",
              "  <thead>\n",
              "    <tr style=\"text-align: right;\">\n",
              "      <th></th>\n",
              "      <th>Unnamed: 0</th>\n",
              "      <th>@ in URLs</th>\n",
              "      <th>Attachments</th>\n",
              "      <th>Css</th>\n",
              "      <th>Encoding</th>\n",
              "      <th>External Resources</th>\n",
              "      <th>Flash content</th>\n",
              "      <th>HTML content</th>\n",
              "      <th>Html Form</th>\n",
              "      <th>Html iFrame</th>\n",
              "      <th>IPs in URLs</th>\n",
              "      <th>Javascript</th>\n",
              "      <th>Phishy</th>\n",
              "      <th>URLs</th>\n",
              "    </tr>\n",
              "  </thead>\n",
              "  <tbody>\n",
              "    <tr>\n",
              "      <th>2684</th>\n",
              "      <td>406</td>\n",
              "      <td>False</td>\n",
              "      <td>0</td>\n",
              "      <td>0</td>\n",
              "      <td>7bit</td>\n",
              "      <td>0</td>\n",
              "      <td>False</td>\n",
              "      <td>False</td>\n",
              "      <td>False</td>\n",
              "      <td>False</td>\n",
              "      <td>False</td>\n",
              "      <td>0</td>\n",
              "      <td>False</td>\n",
              "      <td>1</td>\n",
              "    </tr>\n",
              "    <tr>\n",
              "      <th>4451</th>\n",
              "      <td>2173</td>\n",
              "      <td>False</td>\n",
              "      <td>0</td>\n",
              "      <td>0</td>\n",
              "      <td>7bit</td>\n",
              "      <td>0</td>\n",
              "      <td>False</td>\n",
              "      <td>False</td>\n",
              "      <td>False</td>\n",
              "      <td>False</td>\n",
              "      <td>False</td>\n",
              "      <td>0</td>\n",
              "      <td>False</td>\n",
              "      <td>0</td>\n",
              "    </tr>\n",
              "    <tr>\n",
              "      <th>3682</th>\n",
              "      <td>1404</td>\n",
              "      <td>False</td>\n",
              "      <td>0</td>\n",
              "      <td>0</td>\n",
              "      <td>7bit</td>\n",
              "      <td>0</td>\n",
              "      <td>False</td>\n",
              "      <td>True</td>\n",
              "      <td>False</td>\n",
              "      <td>False</td>\n",
              "      <td>False</td>\n",
              "      <td>0</td>\n",
              "      <td>False</td>\n",
              "      <td>5</td>\n",
              "    </tr>\n",
              "    <tr>\n",
              "      <th>2531</th>\n",
              "      <td>253</td>\n",
              "      <td>False</td>\n",
              "      <td>0</td>\n",
              "      <td>0</td>\n",
              "      <td>quoted-printable</td>\n",
              "      <td>0</td>\n",
              "      <td>False</td>\n",
              "      <td>False</td>\n",
              "      <td>False</td>\n",
              "      <td>False</td>\n",
              "      <td>False</td>\n",
              "      <td>0</td>\n",
              "      <td>False</td>\n",
              "      <td>0</td>\n",
              "    </tr>\n",
              "    <tr>\n",
              "      <th>3037</th>\n",
              "      <td>759</td>\n",
              "      <td>False</td>\n",
              "      <td>0</td>\n",
              "      <td>0</td>\n",
              "      <td>7bit</td>\n",
              "      <td>0</td>\n",
              "      <td>False</td>\n",
              "      <td>False</td>\n",
              "      <td>False</td>\n",
              "      <td>False</td>\n",
              "      <td>False</td>\n",
              "      <td>0</td>\n",
              "      <td>False</td>\n",
              "      <td>0</td>\n",
              "    </tr>\n",
              "    <tr>\n",
              "      <th>122</th>\n",
              "      <td>122</td>\n",
              "      <td>False</td>\n",
              "      <td>0</td>\n",
              "      <td>0</td>\n",
              "      <td>7bit</td>\n",
              "      <td>0</td>\n",
              "      <td>False</td>\n",
              "      <td>True</td>\n",
              "      <td>False</td>\n",
              "      <td>False</td>\n",
              "      <td>True</td>\n",
              "      <td>0</td>\n",
              "      <td>True</td>\n",
              "      <td>16</td>\n",
              "    </tr>\n",
              "    <tr>\n",
              "      <th>2125</th>\n",
              "      <td>2125</td>\n",
              "      <td>False</td>\n",
              "      <td>0</td>\n",
              "      <td>0</td>\n",
              "      <td>quoted-printable</td>\n",
              "      <td>0</td>\n",
              "      <td>False</td>\n",
              "      <td>False</td>\n",
              "      <td>False</td>\n",
              "      <td>False</td>\n",
              "      <td>False</td>\n",
              "      <td>0</td>\n",
              "      <td>True</td>\n",
              "      <td>0</td>\n",
              "    </tr>\n",
              "    <tr>\n",
              "      <th>4051</th>\n",
              "      <td>1773</td>\n",
              "      <td>False</td>\n",
              "      <td>0</td>\n",
              "      <td>0</td>\n",
              "      <td>7bit</td>\n",
              "      <td>0</td>\n",
              "      <td>False</td>\n",
              "      <td>False</td>\n",
              "      <td>False</td>\n",
              "      <td>False</td>\n",
              "      <td>False</td>\n",
              "      <td>0</td>\n",
              "      <td>False</td>\n",
              "      <td>0</td>\n",
              "    </tr>\n",
              "    <tr>\n",
              "      <th>3882</th>\n",
              "      <td>1604</td>\n",
              "      <td>False</td>\n",
              "      <td>0</td>\n",
              "      <td>0</td>\n",
              "      <td>7bit</td>\n",
              "      <td>0</td>\n",
              "      <td>False</td>\n",
              "      <td>True</td>\n",
              "      <td>False</td>\n",
              "      <td>False</td>\n",
              "      <td>False</td>\n",
              "      <td>0</td>\n",
              "      <td>False</td>\n",
              "      <td>3</td>\n",
              "    </tr>\n",
              "    <tr>\n",
              "      <th>3650</th>\n",
              "      <td>1372</td>\n",
              "      <td>False</td>\n",
              "      <td>0</td>\n",
              "      <td>0</td>\n",
              "      <td>7bit</td>\n",
              "      <td>0</td>\n",
              "      <td>False</td>\n",
              "      <td>False</td>\n",
              "      <td>False</td>\n",
              "      <td>False</td>\n",
              "      <td>False</td>\n",
              "      <td>0</td>\n",
              "      <td>False</td>\n",
              "      <td>0</td>\n",
              "    </tr>\n",
              "  </tbody>\n",
              "</table>\n",
              "</div>"
            ],
            "text/plain": [
              "      Unnamed: 0  @ in URLs  Attachments  ...  Javascript Phishy  URLs\n",
              "2684         406      False            0  ...           0  False     1\n",
              "4451        2173      False            0  ...           0  False     0\n",
              "3682        1404      False            0  ...           0  False     5\n",
              "2531         253      False            0  ...           0  False     0\n",
              "3037         759      False            0  ...           0  False     0\n",
              "122          122      False            0  ...           0   True    16\n",
              "2125        2125      False            0  ...           0   True     0\n",
              "4051        1773      False            0  ...           0  False     0\n",
              "3882        1604      False            0  ...           0  False     3\n",
              "3650        1372      False            0  ...           0  False     0\n",
              "\n",
              "[10 rows x 14 columns]"
            ]
          },
          "metadata": {
            "tags": []
          },
          "execution_count": 74
        }
      ]
    },
    {
      "cell_type": "code",
      "metadata": {
        "id": "1ZBlXzkNGww9"
      },
      "source": [
        "# Rearrange columns - Put \"Phishy\" as last col\n",
        "temp1 = raw_data.iloc[:, [1, 2, 3, 4, 5, 6, 7, 8, 9, 10, 11, 13]]\n",
        "temp2 = raw_data.iloc[:, 12]\n",
        "raw_data = pd.concat([temp1, temp2],axis=1)"
      ],
      "execution_count": null,
      "outputs": []
    },
    {
      "cell_type": "code",
      "metadata": {
        "id": "hZph9VNaGztE"
      },
      "source": [
        "# Transform strings in col 3 to ints\n",
        "le = LabelEncoder()\n",
        "le.fit(raw_data.iloc[:,3])\n",
        "raw_data.iloc[:,3] = le.transform(raw_data.iloc[:,3])"
      ],
      "execution_count": null,
      "outputs": []
    },
    {
      "cell_type": "code",
      "metadata": {
        "id": "h_6LFM9GG1lu"
      },
      "source": [
        "raw_data = raw_data.astype(int)"
      ],
      "execution_count": null,
      "outputs": []
    },
    {
      "cell_type": "code",
      "metadata": {
        "id": "es5eXMFqG3yH"
      },
      "source": [
        "trainX, testX, trainY, testY = train_test_split(raw_data.iloc[:, :12] , raw_data.iloc[:, 12], test_size=.4, random_state=0)"
      ],
      "execution_count": null,
      "outputs": []
    },
    {
      "cell_type": "code",
      "metadata": {
        "id": "O3eJjerQG5wH"
      },
      "source": [
        "from sklearn.preprocessing import StandardScaler\n",
        "sc = StandardScaler()\n",
        "trainX = sc.fit_transform(trainX)\n",
        "testX = sc.fit_transform(testX)"
      ],
      "execution_count": null,
      "outputs": []
    },
    {
      "cell_type": "code",
      "metadata": {
        "colab": {
          "base_uri": "https://localhost:8080/"
        },
        "id": "7SG-SbtKG7xd",
        "outputId": "a78ec00e-cb92-4841-fe99-c3d37fc4c8b8"
      },
      "source": [
        "from sklearn.svm import SVC\n",
        "classifier = SVC(kernel = 'linear', random_state = 0)\n",
        "classifier.fit(trainX, trainY)\n",
        "predicted = cross_val_predict(classifier, trainX, trainY, cv = 10)\n",
        "print(accuracy_score(trainY, predicted))"
      ],
      "execution_count": null,
      "outputs": [
        {
          "output_type": "stream",
          "text": [
            "0.8647058823529412\n"
          ],
          "name": "stdout"
        }
      ]
    },
    {
      "cell_type": "code",
      "metadata": {
        "colab": {
          "base_uri": "https://localhost:8080/"
        },
        "id": "6ChfvGJ3G9d3",
        "outputId": "eccbb106-c7ea-411d-ea5c-afa9fb4e9811"
      },
      "source": [
        "from sklearn.metrics import classification_report\n",
        "print(classification_report(np.array(test_y),clf.predict(testing_padded)))\n",
        "print (\"Accuracy : %s\" % ( accuracy_score(np.array(test_y),clf.predict(testing_padded))))"
      ],
      "execution_count": null,
      "outputs": [
        {
          "output_type": "stream",
          "text": [
            "              precision    recall  f1-score   support\n",
            "\n",
            "           0       0.88      0.85      0.87       116\n",
            "           1       0.65      0.70      0.67        44\n",
            "\n",
            "    accuracy                           0.81       160\n",
            "   macro avg       0.76      0.78      0.77       160\n",
            "weighted avg       0.82      0.81      0.81       160\n",
            "\n",
            "Accuracy : 0.8125\n"
          ],
          "name": "stdout"
        }
      ]
    },
    {
      "cell_type": "code",
      "metadata": {
        "colab": {
          "base_uri": "https://localhost:8080/"
        },
        "id": "jUBGIQSLG_ea",
        "outputId": "53cbd547-1774-414a-9dd6-100504131ff3"
      },
      "source": [
        "#xg boost\n",
        "from xgboost import XGBClassifier\n",
        "clf = XGBClassifier()\n",
        "clf.fit(trainX, trainY)\n",
        "predicted = cross_val_predict(clf, trainX, trainY, cv = 10)\n",
        "print(accuracy_score(trainY, predicted))"
      ],
      "execution_count": null,
      "outputs": [
        {
          "output_type": "stream",
          "text": [
            "0.9301470588235294\n"
          ],
          "name": "stdout"
        }
      ]
    },
    {
      "cell_type": "code",
      "metadata": {
        "colab": {
          "base_uri": "https://localhost:8080/"
        },
        "id": "X-JaQk0BHBg6",
        "outputId": "ae7f9f84-ce49-4682-faee-d291781eebe2"
      },
      "source": [
        "y_pred = clf.predict(testX)\n",
        "from sklearn.metrics import confusion_matrix\n",
        "cm = confusion_matrix(testY, y_pred)\n",
        "print(cm)"
      ],
      "execution_count": null,
      "outputs": [
        {
          "output_type": "stream",
          "text": [
            "[[819  67]\n",
            " [ 62 866]]\n"
          ],
          "name": "stdout"
        }
      ]
    },
    {
      "cell_type": "code",
      "metadata": {
        "colab": {
          "base_uri": "https://localhost:8080/"
        },
        "id": "gtgYLFLcHGs-",
        "outputId": "9ebc8d58-32cd-4e2f-cc45-4087ee948267"
      },
      "source": [
        "#Logistic Regression\n",
        "from sklearn.linear_model import LogisticRegression, SGDClassifier\n",
        "import numpy as np\n",
        "clf = LogisticRegression(max_iter=500)\n",
        "clf.fit(trainX, trainY)\n",
        "predicted = cross_val_predict(clf, trainX, trainY, cv = 10)\n",
        "print(accuracy_score(trainY, predicted))"
      ],
      "execution_count": null,
      "outputs": [
        {
          "output_type": "stream",
          "text": [
            "0.8514705882352941\n"
          ],
          "name": "stdout"
        }
      ]
    },
    {
      "cell_type": "code",
      "metadata": {
        "colab": {
          "base_uri": "https://localhost:8080/"
        },
        "id": "0ZzagIuXHKbk",
        "outputId": "242402d5-8f07-4e2e-9535-5817b952c0eb"
      },
      "source": [
        "y_pred = clf.predict(testX)\n",
        "from sklearn.metrics import confusion_matrix\n",
        "cm = confusion_matrix(testY, y_pred)\n",
        "print(cm)"
      ],
      "execution_count": null,
      "outputs": [
        {
          "output_type": "stream",
          "text": [
            "[[699 187]\n",
            " [ 87 841]]\n"
          ],
          "name": "stdout"
        }
      ]
    },
    {
      "cell_type": "code",
      "metadata": {
        "colab": {
          "base_uri": "https://localhost:8080/"
        },
        "id": "G1cZIRTnHMuW",
        "outputId": "84c1c691-a691-4120-dc33-a30a75f9e940"
      },
      "source": [
        "#Decision Tree\n",
        "from sklearn.tree import DecisionTreeClassifier\n",
        "clf = DecisionTreeClassifier()\n",
        "clf.fit(trainX, trainY)\n",
        "predicted = cross_val_predict(clf, trainX, trainY, cv = 10)\n",
        "print(accuracy_score(trainY, predicted))"
      ],
      "execution_count": null,
      "outputs": [
        {
          "output_type": "stream",
          "text": [
            "0.9253676470588236\n"
          ],
          "name": "stdout"
        }
      ]
    },
    {
      "cell_type": "code",
      "metadata": {
        "colab": {
          "base_uri": "https://localhost:8080/"
        },
        "id": "rjK_F7g-HOen",
        "outputId": "aa9fbe88-322f-4baa-9a94-75dab645f7d1"
      },
      "source": [
        "y_pred = clf.predict(testX)\n",
        "from sklearn.metrics import confusion_matrix\n",
        "cm = confusion_matrix(testY, y_pred)\n",
        "print(cm)"
      ],
      "execution_count": null,
      "outputs": [
        {
          "output_type": "stream",
          "text": [
            "[[821  65]\n",
            " [ 70 858]]\n"
          ],
          "name": "stdout"
        }
      ]
    },
    {
      "cell_type": "code",
      "metadata": {
        "id": "GGnrYPT3HQ-_"
      },
      "source": [
        "# taking phishing emails"
      ],
      "execution_count": null,
      "outputs": []
    },
    {
      "cell_type": "code",
      "metadata": {
        "colab": {
          "base_uri": "https://localhost:8080/"
        },
        "id": "w0hZrkGKHVK1",
        "outputId": "8153aed0-ab8e-4a7d-a1de-283b378b178d"
      },
      "source": [
        "for i in range(len(test['phishing'])):\n",
        "  if(test['phishing'][i] == 'ham' and test['Phishy'][i] == False):\n",
        "    test['Class_of_mail'][i] = 'safe'\n",
        "  if(test['phishing'][i] == 'ham' and test['Phishy'][i] == True):\n",
        "    test['Class_of_mail'][i] = 'moderate'\n",
        "  if(test['phishing'][i] == 'spam' and test['Phishy'][i] == False):\n",
        "    test['Class_of_mail'][i] = 'moderate'\n",
        "  if(test['phishing'][i] == 'spam' and test['Phishy'][i] == True):\n",
        "    test['Class_of_mail'][i] = 'harmful'"
      ],
      "execution_count": null,
      "outputs": [
        {
          "output_type": "stream",
          "text": [
            "/usr/local/lib/python3.6/dist-packages/ipykernel_launcher.py:3: SettingWithCopyWarning: \n",
            "A value is trying to be set on a copy of a slice from a DataFrame\n",
            "\n",
            "See the caveats in the documentation: https://pandas.pydata.org/pandas-docs/stable/user_guide/indexing.html#returning-a-view-versus-a-copy\n",
            "  This is separate from the ipykernel package so we can avoid doing imports until\n",
            "/usr/local/lib/python3.6/dist-packages/pandas/core/indexing.py:670: SettingWithCopyWarning: \n",
            "A value is trying to be set on a copy of a slice from a DataFrame\n",
            "\n",
            "See the caveats in the documentation: https://pandas.pydata.org/pandas-docs/stable/user_guide/indexing.html#returning-a-view-versus-a-copy\n",
            "  iloc._setitem_with_indexer(indexer, value)\n",
            "/usr/local/lib/python3.6/dist-packages/ipykernel_launcher.py:5: SettingWithCopyWarning: \n",
            "A value is trying to be set on a copy of a slice from a DataFrame\n",
            "\n",
            "See the caveats in the documentation: https://pandas.pydata.org/pandas-docs/stable/user_guide/indexing.html#returning-a-view-versus-a-copy\n",
            "  \"\"\"\n",
            "/usr/local/lib/python3.6/dist-packages/ipykernel_launcher.py:7: SettingWithCopyWarning: \n",
            "A value is trying to be set on a copy of a slice from a DataFrame\n",
            "\n",
            "See the caveats in the documentation: https://pandas.pydata.org/pandas-docs/stable/user_guide/indexing.html#returning-a-view-versus-a-copy\n",
            "  import sys\n",
            "/usr/local/lib/python3.6/dist-packages/ipykernel_launcher.py:9: SettingWithCopyWarning: \n",
            "A value is trying to be set on a copy of a slice from a DataFrame\n",
            "\n",
            "See the caveats in the documentation: https://pandas.pydata.org/pandas-docs/stable/user_guide/indexing.html#returning-a-view-versus-a-copy\n",
            "  if __name__ == '__main__':\n"
          ],
          "name": "stderr"
        }
      ]
    },
    {
      "cell_type": "code",
      "metadata": {
        "colab": {
          "base_uri": "https://localhost:8080/",
          "height": 169
        },
        "id": "QBwxICMbJRAf",
        "outputId": "98eb4333-f9f3-40c7-b159-82e138561b62"
      },
      "source": [
        "test.sample(5)"
      ],
      "execution_count": null,
      "outputs": [
        {
          "output_type": "error",
          "ename": "NameError",
          "evalue": "ignored",
          "traceback": [
            "\u001b[0;31m---------------------------------------------------------------------------\u001b[0m",
            "\u001b[0;31mNameError\u001b[0m                                 Traceback (most recent call last)",
            "\u001b[0;32m<ipython-input-1-eade914e8326>\u001b[0m in \u001b[0;36m<module>\u001b[0;34m()\u001b[0m\n\u001b[0;32m----> 1\u001b[0;31m \u001b[0mtest\u001b[0m\u001b[0;34m.\u001b[0m\u001b[0msample\u001b[0m\u001b[0;34m(\u001b[0m\u001b[0;36m5\u001b[0m\u001b[0;34m)\u001b[0m\u001b[0;34m\u001b[0m\u001b[0;34m\u001b[0m\u001b[0m\n\u001b[0m",
            "\u001b[0;31mNameError\u001b[0m: name 'test' is not defined"
          ]
        }
      ]
    },
    {
      "cell_type": "code",
      "metadata": {
        "colab": {
          "base_uri": "https://localhost:8080/"
        },
        "id": "OJPxACJZJ6Yg",
        "outputId": "a978d889-f0a1-4cdb-8a67-d5f003050e58"
      },
      "source": [
        "list_intruders = []\n",
        "for s in range(len(test['Class_of_mail'])):\n",
        "  if(test['Class_of_mail'][s] == 'harmful'):\n",
        "    list_intruders.append(test['From'][s])\n",
        "print(len(set(list_intruders)))"
      ],
      "execution_count": null,
      "outputs": [
        {
          "output_type": "stream",
          "text": [
            "34\n"
          ],
          "name": "stdout"
        }
      ]
    },
    {
      "cell_type": "code",
      "metadata": {
        "colab": {
          "base_uri": "https://localhost:8080/"
        },
        "id": "j9qs-rhxLvfI",
        "outputId": "d2f18155-4279-4b42-c418-748be8f2664c"
      },
      "source": [
        "for i in set(list_intruders):print(i) "
      ],
      "execution_count": null,
      "outputs": [
        {
          "output_type": "stream",
          "text": [
            "csruthi215@gmail.com\n",
            "mail-noreply@google.com\n",
            "marketingnews@newsletter.brusselsairport.be\n",
            "crm@triggered.oyorooms.com\n",
            "aswanathpanchumarthi@gmail.com\n",
            "no-reply@pledge.cvc.nic.in\n",
            "contact@protonvpn.com\n",
            "noreply-58905@myanatomy.in\n",
            "sridhar.swaminathan@bennett.edu.in\n",
            "no-reply@accounts.google.com\n",
            "sales@gayathrisarees.com\n",
            "noreply@smule.com\n",
            "yalamanchili.harika999@gmail.com\n",
            "support@wattpad.zendesk.com\n",
            "support@myxtur.freshdesk.com\n",
            "info@interviewbit.com\n",
            "newsletter@womens-health-express.com\n",
            "noreply@youtube.com\n",
            "certificate@pantechsolutions.net\n",
            "hackers@hackerrankmail.com\n",
            "info@net.shiprocket.in\n",
            "trueman@truecaller.com\n",
            "info@naukri.com\n",
            "26.mohit@gmail.com\n",
            "info@salesforcedevs.com\n",
            "madhushi.verma@bennett.edu.in\n",
            "sales@pantechsolutions.net\n",
            "newsletter@gmatclub.com\n",
            "horoscope@horoscopefree.com\n",
            "no-reply@alerts.swiggy.in\n",
            "admin@prepinsta.com\n",
            "no-reply@mail.instagram.com\n",
            "notification+zj4zoyj2fj06@facebookmail.com\n",
            "no-reply@wattpadmail.com\n"
          ],
          "name": "stdout"
        }
      ]
    },
    {
      "cell_type": "code",
      "metadata": {
        "colab": {
          "base_uri": "https://localhost:8080/"
        },
        "id": "PSB7ijtWMwDN",
        "outputId": "73e69c6f-e3db-40c3-b90e-a18193f1aca1"
      },
      "source": [
        "test['Class_of_mail'].value_counts()"
      ],
      "execution_count": null,
      "outputs": [
        {
          "output_type": "execute_result",
          "data": {
            "text/plain": [
              "safe        2172\n",
              "moderate     942\n",
              "harmful       71\n",
              "Name: Class_of_mail, dtype: int64"
            ]
          },
          "metadata": {
            "tags": []
          },
          "execution_count": 45
        }
      ]
    },
    {
      "cell_type": "code",
      "metadata": {
        "id": "PHiGqauAM9tf"
      },
      "source": [
        ""
      ],
      "execution_count": null,
      "outputs": []
    }
  ]
}